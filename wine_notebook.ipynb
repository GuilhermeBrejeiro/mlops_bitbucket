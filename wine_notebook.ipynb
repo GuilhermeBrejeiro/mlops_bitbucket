{
 "cells": [
  {
   "cell_type": "code",
   "execution_count": 300,
   "metadata": {},
   "outputs": [],
   "source": [
    "import pandas as pd\n",
    "import joblib\n",
    "from sklearn.model_selection import train_test_split\n",
    "from sklearn.preprocessing import StandardScaler\n",
    "\n",
    "import matplotlib.pyplot as plt\n",
    "import seaborn as sns\n",
    "import numpy as np\n",
    "\n",
    "from sklearn.tree import DecisionTreeClassifier\n",
    "from sklearn.ensemble import RandomForestClassifier\n",
    "from sklearn.ensemble import AdaBoostClassifier\n",
    "\n",
    "from sklearn.metrics import classification_report, accuracy_score, f1_score"
   ]
  },
  {
   "cell_type": "code",
   "execution_count": 345,
   "metadata": {},
   "outputs": [
    {
     "data": {
      "text/html": [
       "<div>\n",
       "<style scoped>\n",
       "    .dataframe tbody tr th:only-of-type {\n",
       "        vertical-align: middle;\n",
       "    }\n",
       "\n",
       "    .dataframe tbody tr th {\n",
       "        vertical-align: top;\n",
       "    }\n",
       "\n",
       "    .dataframe thead th {\n",
       "        text-align: right;\n",
       "    }\n",
       "</style>\n",
       "<table border=\"1\" class=\"dataframe\">\n",
       "  <thead>\n",
       "    <tr style=\"text-align: right;\">\n",
       "      <th></th>\n",
       "      <th>fixed acidity</th>\n",
       "      <th>volatile acidity</th>\n",
       "      <th>citric acid</th>\n",
       "      <th>residual sugar</th>\n",
       "      <th>chlorides</th>\n",
       "      <th>free sulfur dioxide</th>\n",
       "      <th>total sulfur dioxide</th>\n",
       "      <th>density</th>\n",
       "      <th>pH</th>\n",
       "      <th>sulphates</th>\n",
       "      <th>alcohol</th>\n",
       "      <th>quality</th>\n",
       "      <th>Id</th>\n",
       "    </tr>\n",
       "  </thead>\n",
       "  <tbody>\n",
       "    <tr>\n",
       "      <th>0</th>\n",
       "      <td>7.4</td>\n",
       "      <td>0.70</td>\n",
       "      <td>0.00</td>\n",
       "      <td>1.9</td>\n",
       "      <td>0.076</td>\n",
       "      <td>11.0</td>\n",
       "      <td>34.0</td>\n",
       "      <td>0.9978</td>\n",
       "      <td>3.51</td>\n",
       "      <td>0.56</td>\n",
       "      <td>9.4</td>\n",
       "      <td>5</td>\n",
       "      <td>0</td>\n",
       "    </tr>\n",
       "    <tr>\n",
       "      <th>1</th>\n",
       "      <td>7.8</td>\n",
       "      <td>0.88</td>\n",
       "      <td>0.00</td>\n",
       "      <td>2.6</td>\n",
       "      <td>0.098</td>\n",
       "      <td>25.0</td>\n",
       "      <td>67.0</td>\n",
       "      <td>0.9968</td>\n",
       "      <td>3.20</td>\n",
       "      <td>0.68</td>\n",
       "      <td>9.8</td>\n",
       "      <td>5</td>\n",
       "      <td>1</td>\n",
       "    </tr>\n",
       "    <tr>\n",
       "      <th>2</th>\n",
       "      <td>7.8</td>\n",
       "      <td>0.76</td>\n",
       "      <td>0.04</td>\n",
       "      <td>2.3</td>\n",
       "      <td>0.092</td>\n",
       "      <td>15.0</td>\n",
       "      <td>54.0</td>\n",
       "      <td>0.9970</td>\n",
       "      <td>3.26</td>\n",
       "      <td>0.65</td>\n",
       "      <td>9.8</td>\n",
       "      <td>5</td>\n",
       "      <td>2</td>\n",
       "    </tr>\n",
       "    <tr>\n",
       "      <th>3</th>\n",
       "      <td>11.2</td>\n",
       "      <td>0.28</td>\n",
       "      <td>0.56</td>\n",
       "      <td>1.9</td>\n",
       "      <td>0.075</td>\n",
       "      <td>17.0</td>\n",
       "      <td>60.0</td>\n",
       "      <td>0.9980</td>\n",
       "      <td>3.16</td>\n",
       "      <td>0.58</td>\n",
       "      <td>9.8</td>\n",
       "      <td>6</td>\n",
       "      <td>3</td>\n",
       "    </tr>\n",
       "    <tr>\n",
       "      <th>4</th>\n",
       "      <td>7.4</td>\n",
       "      <td>0.70</td>\n",
       "      <td>0.00</td>\n",
       "      <td>1.9</td>\n",
       "      <td>0.076</td>\n",
       "      <td>11.0</td>\n",
       "      <td>34.0</td>\n",
       "      <td>0.9978</td>\n",
       "      <td>3.51</td>\n",
       "      <td>0.56</td>\n",
       "      <td>9.4</td>\n",
       "      <td>5</td>\n",
       "      <td>4</td>\n",
       "    </tr>\n",
       "  </tbody>\n",
       "</table>\n",
       "</div>"
      ],
      "text/plain": [
       "   fixed acidity  volatile acidity  citric acid  residual sugar  chlorides  \\\n",
       "0            7.4              0.70         0.00             1.9      0.076   \n",
       "1            7.8              0.88         0.00             2.6      0.098   \n",
       "2            7.8              0.76         0.04             2.3      0.092   \n",
       "3           11.2              0.28         0.56             1.9      0.075   \n",
       "4            7.4              0.70         0.00             1.9      0.076   \n",
       "\n",
       "   free sulfur dioxide  total sulfur dioxide  density    pH  sulphates  \\\n",
       "0                 11.0                  34.0   0.9978  3.51       0.56   \n",
       "1                 25.0                  67.0   0.9968  3.20       0.68   \n",
       "2                 15.0                  54.0   0.9970  3.26       0.65   \n",
       "3                 17.0                  60.0   0.9980  3.16       0.58   \n",
       "4                 11.0                  34.0   0.9978  3.51       0.56   \n",
       "\n",
       "   alcohol  quality  Id  \n",
       "0      9.4        5   0  \n",
       "1      9.8        5   1  \n",
       "2      9.8        5   2  \n",
       "3      9.8        6   3  \n",
       "4      9.4        5   4  "
      ]
     },
     "execution_count": 345,
     "metadata": {},
     "output_type": "execute_result"
    }
   ],
   "source": [
    "df = pd.read_csv(\"./modules/ml_support_modules/WineQT.csv\")\n",
    "df.head()"
   ]
  },
  {
   "cell_type": "code",
   "execution_count": 346,
   "metadata": {},
   "outputs": [
    {
     "data": {
      "text/plain": [
       "(1143, 13)"
      ]
     },
     "execution_count": 346,
     "metadata": {},
     "output_type": "execute_result"
    }
   ],
   "source": [
    "df.shape"
   ]
  },
  {
   "cell_type": "code",
   "execution_count": 347,
   "metadata": {},
   "outputs": [
    {
     "data": {
      "text/plain": [
       "fixed acidity           float64\n",
       "volatile acidity        float64\n",
       "citric acid             float64\n",
       "residual sugar          float64\n",
       "chlorides               float64\n",
       "free sulfur dioxide     float64\n",
       "total sulfur dioxide    float64\n",
       "density                 float64\n",
       "pH                      float64\n",
       "sulphates               float64\n",
       "alcohol                 float64\n",
       "quality                   int64\n",
       "Id                        int64\n",
       "dtype: object"
      ]
     },
     "execution_count": 347,
     "metadata": {},
     "output_type": "execute_result"
    }
   ],
   "source": [
    "df.dtypes"
   ]
  },
  {
   "cell_type": "markdown",
   "metadata": {},
   "source": [
    "### Rename columns"
   ]
  },
  {
   "cell_type": "code",
   "execution_count": 348,
   "metadata": {},
   "outputs": [
    {
     "data": {
      "text/html": [
       "<div>\n",
       "<style scoped>\n",
       "    .dataframe tbody tr th:only-of-type {\n",
       "        vertical-align: middle;\n",
       "    }\n",
       "\n",
       "    .dataframe tbody tr th {\n",
       "        vertical-align: top;\n",
       "    }\n",
       "\n",
       "    .dataframe thead th {\n",
       "        text-align: right;\n",
       "    }\n",
       "</style>\n",
       "<table border=\"1\" class=\"dataframe\">\n",
       "  <thead>\n",
       "    <tr style=\"text-align: right;\">\n",
       "      <th></th>\n",
       "      <th>fixed_acidity</th>\n",
       "      <th>volatile_acidity</th>\n",
       "      <th>citric_acid</th>\n",
       "      <th>residual_sugar</th>\n",
       "      <th>chlorides</th>\n",
       "      <th>free_sulfur_dioxide</th>\n",
       "      <th>total_sulfur_dioxide</th>\n",
       "      <th>density</th>\n",
       "      <th>pH</th>\n",
       "      <th>sulphates</th>\n",
       "      <th>alcohol</th>\n",
       "      <th>quality</th>\n",
       "      <th>Id</th>\n",
       "    </tr>\n",
       "  </thead>\n",
       "  <tbody>\n",
       "    <tr>\n",
       "      <th>0</th>\n",
       "      <td>7.4</td>\n",
       "      <td>0.70</td>\n",
       "      <td>0.00</td>\n",
       "      <td>1.9</td>\n",
       "      <td>0.076</td>\n",
       "      <td>11.0</td>\n",
       "      <td>34.0</td>\n",
       "      <td>0.9978</td>\n",
       "      <td>3.51</td>\n",
       "      <td>0.56</td>\n",
       "      <td>9.4</td>\n",
       "      <td>5</td>\n",
       "      <td>0</td>\n",
       "    </tr>\n",
       "    <tr>\n",
       "      <th>1</th>\n",
       "      <td>7.8</td>\n",
       "      <td>0.88</td>\n",
       "      <td>0.00</td>\n",
       "      <td>2.6</td>\n",
       "      <td>0.098</td>\n",
       "      <td>25.0</td>\n",
       "      <td>67.0</td>\n",
       "      <td>0.9968</td>\n",
       "      <td>3.20</td>\n",
       "      <td>0.68</td>\n",
       "      <td>9.8</td>\n",
       "      <td>5</td>\n",
       "      <td>1</td>\n",
       "    </tr>\n",
       "    <tr>\n",
       "      <th>2</th>\n",
       "      <td>7.8</td>\n",
       "      <td>0.76</td>\n",
       "      <td>0.04</td>\n",
       "      <td>2.3</td>\n",
       "      <td>0.092</td>\n",
       "      <td>15.0</td>\n",
       "      <td>54.0</td>\n",
       "      <td>0.9970</td>\n",
       "      <td>3.26</td>\n",
       "      <td>0.65</td>\n",
       "      <td>9.8</td>\n",
       "      <td>5</td>\n",
       "      <td>2</td>\n",
       "    </tr>\n",
       "    <tr>\n",
       "      <th>3</th>\n",
       "      <td>11.2</td>\n",
       "      <td>0.28</td>\n",
       "      <td>0.56</td>\n",
       "      <td>1.9</td>\n",
       "      <td>0.075</td>\n",
       "      <td>17.0</td>\n",
       "      <td>60.0</td>\n",
       "      <td>0.9980</td>\n",
       "      <td>3.16</td>\n",
       "      <td>0.58</td>\n",
       "      <td>9.8</td>\n",
       "      <td>6</td>\n",
       "      <td>3</td>\n",
       "    </tr>\n",
       "    <tr>\n",
       "      <th>4</th>\n",
       "      <td>7.4</td>\n",
       "      <td>0.70</td>\n",
       "      <td>0.00</td>\n",
       "      <td>1.9</td>\n",
       "      <td>0.076</td>\n",
       "      <td>11.0</td>\n",
       "      <td>34.0</td>\n",
       "      <td>0.9978</td>\n",
       "      <td>3.51</td>\n",
       "      <td>0.56</td>\n",
       "      <td>9.4</td>\n",
       "      <td>5</td>\n",
       "      <td>4</td>\n",
       "    </tr>\n",
       "  </tbody>\n",
       "</table>\n",
       "</div>"
      ],
      "text/plain": [
       "   fixed_acidity  volatile_acidity  citric_acid  residual_sugar  chlorides  \\\n",
       "0            7.4              0.70         0.00             1.9      0.076   \n",
       "1            7.8              0.88         0.00             2.6      0.098   \n",
       "2            7.8              0.76         0.04             2.3      0.092   \n",
       "3           11.2              0.28         0.56             1.9      0.075   \n",
       "4            7.4              0.70         0.00             1.9      0.076   \n",
       "\n",
       "   free_sulfur_dioxide  total_sulfur_dioxide  density    pH  sulphates  \\\n",
       "0                 11.0                  34.0   0.9978  3.51       0.56   \n",
       "1                 25.0                  67.0   0.9968  3.20       0.68   \n",
       "2                 15.0                  54.0   0.9970  3.26       0.65   \n",
       "3                 17.0                  60.0   0.9980  3.16       0.58   \n",
       "4                 11.0                  34.0   0.9978  3.51       0.56   \n",
       "\n",
       "   alcohol  quality  Id  \n",
       "0      9.4        5   0  \n",
       "1      9.8        5   1  \n",
       "2      9.8        5   2  \n",
       "3      9.8        6   3  \n",
       "4      9.4        5   4  "
      ]
     },
     "execution_count": 348,
     "metadata": {},
     "output_type": "execute_result"
    }
   ],
   "source": [
    "# Adding underscore to all columns names to be possible to use dor notation\n",
    "df.columns = [col.replace(\" \", \"_\") for col in df.columns]\n",
    "df.head()"
   ]
  },
  {
   "cell_type": "code",
   "execution_count": 349,
   "metadata": {},
   "outputs": [
    {
     "data": {
      "text/plain": [
       "Index(['fixed_acidity', 'volatile_acidity', 'citric_acid', 'residual_sugar',\n",
       "       'chlorides', 'free_sulfur_dioxide', 'total_sulfur_dioxide', 'density',\n",
       "       'pH', 'sulphates', 'alcohol', 'quality', 'Id'],\n",
       "      dtype='object')"
      ]
     },
     "execution_count": 349,
     "metadata": {},
     "output_type": "execute_result"
    }
   ],
   "source": [
    "df.columns"
   ]
  },
  {
   "cell_type": "code",
   "execution_count": 350,
   "metadata": {},
   "outputs": [
    {
     "data": {
      "text/plain": [
       "762.0"
      ]
     },
     "execution_count": 350,
     "metadata": {},
     "output_type": "execute_result"
    }
   ],
   "source": [
    "(df.shape[0] / 3) *2"
   ]
  },
  {
   "cell_type": "code",
   "execution_count": 351,
   "metadata": {},
   "outputs": [],
   "source": [
    "#Split dataframe to use for simulate new data entering \n",
    "df_1 = df.iloc[:381]\n",
    "df_2 =df.iloc[381:762]\n",
    "df_3 = df.iloc[762:]"
   ]
  },
  {
   "cell_type": "code",
   "execution_count": 191,
   "metadata": {},
   "outputs": [],
   "source": [
    "df_1.to_csv(\"/home/guilherme/Desktop/mlops/data/all_data/data_1.csv\", index=False)\n",
    "df_2.to_csv(\"/home/guilherme/Desktop/mlops/data/all_data/data_2.csv\", index=False)\n",
    "df_3.to_csv(\"/home/guilherme/Desktop/mlops/data/test_data/test_data.csv\", index=False)"
   ]
  },
  {
   "cell_type": "code",
   "execution_count": 352,
   "metadata": {},
   "outputs": [
    {
     "data": {
      "text/plain": [
       "fixed_acidity           0\n",
       "volatile_acidity        0\n",
       "citric_acid             0\n",
       "residual_sugar          0\n",
       "chlorides               0\n",
       "free_sulfur_dioxide     0\n",
       "total_sulfur_dioxide    0\n",
       "density                 0\n",
       "pH                      0\n",
       "sulphates               0\n",
       "alcohol                 0\n",
       "quality                 0\n",
       "Id                      0\n",
       "dtype: int64"
      ]
     },
     "execution_count": 352,
     "metadata": {},
     "output_type": "execute_result"
    }
   ],
   "source": [
    "df_1.isnull().sum()"
   ]
  },
  {
   "cell_type": "code",
   "execution_count": 353,
   "metadata": {},
   "outputs": [
    {
     "data": {
      "text/html": [
       "<div>\n",
       "<style scoped>\n",
       "    .dataframe tbody tr th:only-of-type {\n",
       "        vertical-align: middle;\n",
       "    }\n",
       "\n",
       "    .dataframe tbody tr th {\n",
       "        vertical-align: top;\n",
       "    }\n",
       "\n",
       "    .dataframe thead th {\n",
       "        text-align: right;\n",
       "    }\n",
       "</style>\n",
       "<table border=\"1\" class=\"dataframe\">\n",
       "  <thead>\n",
       "    <tr style=\"text-align: right;\">\n",
       "      <th></th>\n",
       "      <th>fixed_acidity</th>\n",
       "      <th>volatile_acidity</th>\n",
       "      <th>citric_acid</th>\n",
       "      <th>residual_sugar</th>\n",
       "      <th>chlorides</th>\n",
       "      <th>free_sulfur_dioxide</th>\n",
       "      <th>total_sulfur_dioxide</th>\n",
       "      <th>density</th>\n",
       "      <th>pH</th>\n",
       "      <th>sulphates</th>\n",
       "      <th>alcohol</th>\n",
       "      <th>quality</th>\n",
       "      <th>Id</th>\n",
       "    </tr>\n",
       "  </thead>\n",
       "  <tbody>\n",
       "    <tr>\n",
       "      <th>count</th>\n",
       "      <td>381.000000</td>\n",
       "      <td>381.000000</td>\n",
       "      <td>381.000000</td>\n",
       "      <td>381.000000</td>\n",
       "      <td>381.000000</td>\n",
       "      <td>381.000000</td>\n",
       "      <td>381.000000</td>\n",
       "      <td>381.000000</td>\n",
       "      <td>381.000000</td>\n",
       "      <td>381.000000</td>\n",
       "      <td>381.000000</td>\n",
       "      <td>381.000000</td>\n",
       "      <td>381.000000</td>\n",
       "    </tr>\n",
       "    <tr>\n",
       "      <th>mean</th>\n",
       "      <td>8.814173</td>\n",
       "      <td>0.530302</td>\n",
       "      <td>0.309764</td>\n",
       "      <td>2.622835</td>\n",
       "      <td>0.091349</td>\n",
       "      <td>14.809711</td>\n",
       "      <td>49.734908</td>\n",
       "      <td>0.997494</td>\n",
       "      <td>3.289239</td>\n",
       "      <td>0.698215</td>\n",
       "      <td>10.177428</td>\n",
       "      <td>5.632546</td>\n",
       "      <td>269.370079</td>\n",
       "    </tr>\n",
       "    <tr>\n",
       "      <th>std</th>\n",
       "      <td>1.947038</td>\n",
       "      <td>0.179292</td>\n",
       "      <td>0.220292</td>\n",
       "      <td>1.450722</td>\n",
       "      <td>0.055407</td>\n",
       "      <td>9.825645</td>\n",
       "      <td>32.951728</td>\n",
       "      <td>0.001767</td>\n",
       "      <td>0.157202</td>\n",
       "      <td>0.210014</td>\n",
       "      <td>1.027985</td>\n",
       "      <td>0.843795</td>\n",
       "      <td>155.937089</td>\n",
       "    </tr>\n",
       "    <tr>\n",
       "      <th>min</th>\n",
       "      <td>4.600000</td>\n",
       "      <td>0.180000</td>\n",
       "      <td>0.000000</td>\n",
       "      <td>1.200000</td>\n",
       "      <td>0.039000</td>\n",
       "      <td>1.000000</td>\n",
       "      <td>8.000000</td>\n",
       "      <td>0.991200</td>\n",
       "      <td>2.740000</td>\n",
       "      <td>0.330000</td>\n",
       "      <td>8.400000</td>\n",
       "      <td>3.000000</td>\n",
       "      <td>0.000000</td>\n",
       "    </tr>\n",
       "    <tr>\n",
       "      <th>25%</th>\n",
       "      <td>7.400000</td>\n",
       "      <td>0.400000</td>\n",
       "      <td>0.100000</td>\n",
       "      <td>1.900000</td>\n",
       "      <td>0.073000</td>\n",
       "      <td>7.000000</td>\n",
       "      <td>24.000000</td>\n",
       "      <td>0.996400</td>\n",
       "      <td>3.170000</td>\n",
       "      <td>0.560000</td>\n",
       "      <td>9.400000</td>\n",
       "      <td>5.000000</td>\n",
       "      <td>140.000000</td>\n",
       "    </tr>\n",
       "    <tr>\n",
       "      <th>50%</th>\n",
       "      <td>8.300000</td>\n",
       "      <td>0.520000</td>\n",
       "      <td>0.280000</td>\n",
       "      <td>2.200000</td>\n",
       "      <td>0.082000</td>\n",
       "      <td>12.000000</td>\n",
       "      <td>42.000000</td>\n",
       "      <td>0.997200</td>\n",
       "      <td>3.280000</td>\n",
       "      <td>0.640000</td>\n",
       "      <td>9.900000</td>\n",
       "      <td>6.000000</td>\n",
       "      <td>267.000000</td>\n",
       "    </tr>\n",
       "    <tr>\n",
       "      <th>75%</th>\n",
       "      <td>10.200000</td>\n",
       "      <td>0.630000</td>\n",
       "      <td>0.490000</td>\n",
       "      <td>2.700000</td>\n",
       "      <td>0.092000</td>\n",
       "      <td>20.000000</td>\n",
       "      <td>65.000000</td>\n",
       "      <td>0.998600</td>\n",
       "      <td>3.390000</td>\n",
       "      <td>0.780000</td>\n",
       "      <td>10.600000</td>\n",
       "      <td>6.000000</td>\n",
       "      <td>410.000000</td>\n",
       "    </tr>\n",
       "    <tr>\n",
       "      <th>max</th>\n",
       "      <td>15.600000</td>\n",
       "      <td>1.330000</td>\n",
       "      <td>1.000000</td>\n",
       "      <td>15.500000</td>\n",
       "      <td>0.611000</td>\n",
       "      <td>68.000000</td>\n",
       "      <td>165.000000</td>\n",
       "      <td>1.003200</td>\n",
       "      <td>3.900000</td>\n",
       "      <td>2.000000</td>\n",
       "      <td>14.000000</td>\n",
       "      <td>8.000000</td>\n",
       "      <td>536.000000</td>\n",
       "    </tr>\n",
       "  </tbody>\n",
       "</table>\n",
       "</div>"
      ],
      "text/plain": [
       "       fixed_acidity  volatile_acidity  citric_acid  residual_sugar  \\\n",
       "count     381.000000        381.000000   381.000000      381.000000   \n",
       "mean        8.814173          0.530302     0.309764        2.622835   \n",
       "std         1.947038          0.179292     0.220292        1.450722   \n",
       "min         4.600000          0.180000     0.000000        1.200000   \n",
       "25%         7.400000          0.400000     0.100000        1.900000   \n",
       "50%         8.300000          0.520000     0.280000        2.200000   \n",
       "75%        10.200000          0.630000     0.490000        2.700000   \n",
       "max        15.600000          1.330000     1.000000       15.500000   \n",
       "\n",
       "        chlorides  free_sulfur_dioxide  total_sulfur_dioxide     density  \\\n",
       "count  381.000000           381.000000            381.000000  381.000000   \n",
       "mean     0.091349            14.809711             49.734908    0.997494   \n",
       "std      0.055407             9.825645             32.951728    0.001767   \n",
       "min      0.039000             1.000000              8.000000    0.991200   \n",
       "25%      0.073000             7.000000             24.000000    0.996400   \n",
       "50%      0.082000            12.000000             42.000000    0.997200   \n",
       "75%      0.092000            20.000000             65.000000    0.998600   \n",
       "max      0.611000            68.000000            165.000000    1.003200   \n",
       "\n",
       "               pH   sulphates     alcohol     quality          Id  \n",
       "count  381.000000  381.000000  381.000000  381.000000  381.000000  \n",
       "mean     3.289239    0.698215   10.177428    5.632546  269.370079  \n",
       "std      0.157202    0.210014    1.027985    0.843795  155.937089  \n",
       "min      2.740000    0.330000    8.400000    3.000000    0.000000  \n",
       "25%      3.170000    0.560000    9.400000    5.000000  140.000000  \n",
       "50%      3.280000    0.640000    9.900000    6.000000  267.000000  \n",
       "75%      3.390000    0.780000   10.600000    6.000000  410.000000  \n",
       "max      3.900000    2.000000   14.000000    8.000000  536.000000  "
      ]
     },
     "execution_count": 353,
     "metadata": {},
     "output_type": "execute_result"
    }
   ],
   "source": [
    "df_1.describe()"
   ]
  },
  {
   "cell_type": "code",
   "execution_count": 354,
   "metadata": {},
   "outputs": [
    {
     "data": {
      "text/html": [
       "<div>\n",
       "<style scoped>\n",
       "    .dataframe tbody tr th:only-of-type {\n",
       "        vertical-align: middle;\n",
       "    }\n",
       "\n",
       "    .dataframe tbody tr th {\n",
       "        vertical-align: top;\n",
       "    }\n",
       "\n",
       "    .dataframe thead th {\n",
       "        text-align: right;\n",
       "    }\n",
       "</style>\n",
       "<table border=\"1\" class=\"dataframe\">\n",
       "  <thead>\n",
       "    <tr style=\"text-align: right;\">\n",
       "      <th></th>\n",
       "      <th>fixed_acidity</th>\n",
       "      <th>volatile_acidity</th>\n",
       "      <th>citric_acid</th>\n",
       "      <th>residual_sugar</th>\n",
       "      <th>chlorides</th>\n",
       "      <th>free_sulfur_dioxide</th>\n",
       "      <th>total_sulfur_dioxide</th>\n",
       "      <th>density</th>\n",
       "      <th>pH</th>\n",
       "      <th>sulphates</th>\n",
       "      <th>alcohol</th>\n",
       "      <th>Id</th>\n",
       "    </tr>\n",
       "    <tr>\n",
       "      <th>quality</th>\n",
       "      <th></th>\n",
       "      <th></th>\n",
       "      <th></th>\n",
       "      <th></th>\n",
       "      <th></th>\n",
       "      <th></th>\n",
       "      <th></th>\n",
       "      <th></th>\n",
       "      <th></th>\n",
       "      <th></th>\n",
       "      <th></th>\n",
       "      <th></th>\n",
       "    </tr>\n",
       "  </thead>\n",
       "  <tbody>\n",
       "    <tr>\n",
       "      <th>3</th>\n",
       "      <td>2</td>\n",
       "      <td>2</td>\n",
       "      <td>2</td>\n",
       "      <td>2</td>\n",
       "      <td>2</td>\n",
       "      <td>2</td>\n",
       "      <td>2</td>\n",
       "      <td>2</td>\n",
       "      <td>2</td>\n",
       "      <td>2</td>\n",
       "      <td>2</td>\n",
       "      <td>2</td>\n",
       "    </tr>\n",
       "    <tr>\n",
       "      <th>4</th>\n",
       "      <td>13</td>\n",
       "      <td>13</td>\n",
       "      <td>13</td>\n",
       "      <td>13</td>\n",
       "      <td>13</td>\n",
       "      <td>13</td>\n",
       "      <td>13</td>\n",
       "      <td>13</td>\n",
       "      <td>13</td>\n",
       "      <td>13</td>\n",
       "      <td>13</td>\n",
       "      <td>13</td>\n",
       "    </tr>\n",
       "    <tr>\n",
       "      <th>5</th>\n",
       "      <td>172</td>\n",
       "      <td>172</td>\n",
       "      <td>172</td>\n",
       "      <td>172</td>\n",
       "      <td>172</td>\n",
       "      <td>172</td>\n",
       "      <td>172</td>\n",
       "      <td>172</td>\n",
       "      <td>172</td>\n",
       "      <td>172</td>\n",
       "      <td>172</td>\n",
       "      <td>172</td>\n",
       "    </tr>\n",
       "    <tr>\n",
       "      <th>6</th>\n",
       "      <td>138</td>\n",
       "      <td>138</td>\n",
       "      <td>138</td>\n",
       "      <td>138</td>\n",
       "      <td>138</td>\n",
       "      <td>138</td>\n",
       "      <td>138</td>\n",
       "      <td>138</td>\n",
       "      <td>138</td>\n",
       "      <td>138</td>\n",
       "      <td>138</td>\n",
       "      <td>138</td>\n",
       "    </tr>\n",
       "    <tr>\n",
       "      <th>7</th>\n",
       "      <td>48</td>\n",
       "      <td>48</td>\n",
       "      <td>48</td>\n",
       "      <td>48</td>\n",
       "      <td>48</td>\n",
       "      <td>48</td>\n",
       "      <td>48</td>\n",
       "      <td>48</td>\n",
       "      <td>48</td>\n",
       "      <td>48</td>\n",
       "      <td>48</td>\n",
       "      <td>48</td>\n",
       "    </tr>\n",
       "    <tr>\n",
       "      <th>8</th>\n",
       "      <td>8</td>\n",
       "      <td>8</td>\n",
       "      <td>8</td>\n",
       "      <td>8</td>\n",
       "      <td>8</td>\n",
       "      <td>8</td>\n",
       "      <td>8</td>\n",
       "      <td>8</td>\n",
       "      <td>8</td>\n",
       "      <td>8</td>\n",
       "      <td>8</td>\n",
       "      <td>8</td>\n",
       "    </tr>\n",
       "  </tbody>\n",
       "</table>\n",
       "</div>"
      ],
      "text/plain": [
       "         fixed_acidity  volatile_acidity  citric_acid  residual_sugar  \\\n",
       "quality                                                                 \n",
       "3                    2                 2            2               2   \n",
       "4                   13                13           13              13   \n",
       "5                  172               172          172             172   \n",
       "6                  138               138          138             138   \n",
       "7                   48                48           48              48   \n",
       "8                    8                 8            8               8   \n",
       "\n",
       "         chlorides  free_sulfur_dioxide  total_sulfur_dioxide  density   pH  \\\n",
       "quality                                                                       \n",
       "3                2                    2                     2        2    2   \n",
       "4               13                   13                    13       13   13   \n",
       "5              172                  172                   172      172  172   \n",
       "6              138                  138                   138      138  138   \n",
       "7               48                   48                    48       48   48   \n",
       "8                8                    8                     8        8    8   \n",
       "\n",
       "         sulphates  alcohol   Id  \n",
       "quality                           \n",
       "3                2        2    2  \n",
       "4               13       13   13  \n",
       "5              172      172  172  \n",
       "6              138      138  138  \n",
       "7               48       48   48  \n",
       "8                8        8    8  "
      ]
     },
     "execution_count": 354,
     "metadata": {},
     "output_type": "execute_result"
    }
   ],
   "source": [
    "df_1.groupby('quality').count()"
   ]
  },
  {
   "cell_type": "code",
   "execution_count": 355,
   "metadata": {},
   "outputs": [
    {
     "data": {
      "text/plain": [
       "<BarContainer object of 6 artists>"
      ]
     },
     "execution_count": 355,
     "metadata": {},
     "output_type": "execute_result"
    },
    {
     "data": {
      "image/png": "[encoded data removed]",
      "text/plain": [
       "<Figure size 432x288 with 1 Axes>"
      ]
     },
     "metadata": {
      "needs_background": "light"
     },
     "output_type": "display_data"
    }
   ],
   "source": [
    "#unbalanced dataset\n",
    "plt.bar(df_1.groupby('quality').count().index.values, \n",
    "        df_1.groupby('quality').count()['Id'].values)"
   ]
  },
  {
   "cell_type": "code",
   "execution_count": 356,
   "metadata": {},
   "outputs": [
    {
     "name": "stderr",
     "output_type": "stream",
     "text": [
      "/tmp/ipykernel_3630268/615752397.py:2: SettingWithCopyWarning: \n",
      "A value is trying to be set on a copy of a slice from a DataFrame.\n",
      "Try using .loc[row_indexer,col_indexer] = value instead\n",
      "\n",
      "See the caveats in the documentation: https://pandas.pydata.org/pandas-docs/stable/user_guide/indexing.html#returning-a-view-versus-a-copy\n",
      "  df_1['binary_quality'] = df_1.quality > 5\n",
      "/tmp/ipykernel_3630268/615752397.py:4: SettingWithCopyWarning: \n",
      "A value is trying to be set on a copy of a slice from a DataFrame\n",
      "\n",
      "See the caveats in the documentation: https://pandas.pydata.org/pandas-docs/stable/user_guide/indexing.html#returning-a-view-versus-a-copy\n",
      "  df_1.drop(['Id', 'quality'], inplace=True, axis=1)\n"
     ]
    }
   ],
   "source": [
    "#Creating a binary classification by grouping data into 1 if higher than 5 and 0 if not\n",
    "df_1['binary_quality'] = df_1.quality > 5\n",
    "#Drop Id and quality columns\n",
    "df_1.drop(['Id', 'quality'], inplace=True, axis=1)"
   ]
  },
  {
   "cell_type": "code",
   "execution_count": 357,
   "metadata": {},
   "outputs": [
    {
     "data": {
      "text/html": [
       "<div>\n",
       "<style scoped>\n",
       "    .dataframe tbody tr th:only-of-type {\n",
       "        vertical-align: middle;\n",
       "    }\n",
       "\n",
       "    .dataframe tbody tr th {\n",
       "        vertical-align: top;\n",
       "    }\n",
       "\n",
       "    .dataframe thead th {\n",
       "        text-align: right;\n",
       "    }\n",
       "</style>\n",
       "<table border=\"1\" class=\"dataframe\">\n",
       "  <thead>\n",
       "    <tr style=\"text-align: right;\">\n",
       "      <th></th>\n",
       "      <th>fixed_acidity</th>\n",
       "      <th>volatile_acidity</th>\n",
       "      <th>citric_acid</th>\n",
       "      <th>residual_sugar</th>\n",
       "      <th>chlorides</th>\n",
       "      <th>free_sulfur_dioxide</th>\n",
       "      <th>total_sulfur_dioxide</th>\n",
       "      <th>density</th>\n",
       "      <th>pH</th>\n",
       "      <th>sulphates</th>\n",
       "      <th>alcohol</th>\n",
       "    </tr>\n",
       "    <tr>\n",
       "      <th>binary_quality</th>\n",
       "      <th></th>\n",
       "      <th></th>\n",
       "      <th></th>\n",
       "      <th></th>\n",
       "      <th></th>\n",
       "      <th></th>\n",
       "      <th></th>\n",
       "      <th></th>\n",
       "      <th></th>\n",
       "      <th></th>\n",
       "      <th></th>\n",
       "    </tr>\n",
       "  </thead>\n",
       "  <tbody>\n",
       "    <tr>\n",
       "      <th>False</th>\n",
       "      <td>187</td>\n",
       "      <td>187</td>\n",
       "      <td>187</td>\n",
       "      <td>187</td>\n",
       "      <td>187</td>\n",
       "      <td>187</td>\n",
       "      <td>187</td>\n",
       "      <td>187</td>\n",
       "      <td>187</td>\n",
       "      <td>187</td>\n",
       "      <td>187</td>\n",
       "    </tr>\n",
       "    <tr>\n",
       "      <th>True</th>\n",
       "      <td>194</td>\n",
       "      <td>194</td>\n",
       "      <td>194</td>\n",
       "      <td>194</td>\n",
       "      <td>194</td>\n",
       "      <td>194</td>\n",
       "      <td>194</td>\n",
       "      <td>194</td>\n",
       "      <td>194</td>\n",
       "      <td>194</td>\n",
       "      <td>194</td>\n",
       "    </tr>\n",
       "  </tbody>\n",
       "</table>\n",
       "</div>"
      ],
      "text/plain": [
       "                fixed_acidity  volatile_acidity  citric_acid  residual_sugar  \\\n",
       "binary_quality                                                                 \n",
       "False                     187               187          187             187   \n",
       "True                      194               194          194             194   \n",
       "\n",
       "                chlorides  free_sulfur_dioxide  total_sulfur_dioxide  density  \\\n",
       "binary_quality                                                                  \n",
       "False                 187                  187                   187      187   \n",
       "True                  194                  194                   194      194   \n",
       "\n",
       "                 pH  sulphates  alcohol  \n",
       "binary_quality                           \n",
       "False           187        187      187  \n",
       "True            194        194      194  "
      ]
     },
     "execution_count": 357,
     "metadata": {},
     "output_type": "execute_result"
    }
   ],
   "source": [
    "df_1.groupby('binary_quality').count()"
   ]
  },
  {
   "cell_type": "code",
   "execution_count": 358,
   "metadata": {},
   "outputs": [],
   "source": [
    "# Split the model in X and y\n",
    "X = df_1.drop(['binary_quality'], axis=1)\n",
    "y = df_1.binary_quality"
   ]
  },
  {
   "cell_type": "code",
   "execution_count": 359,
   "metadata": {},
   "outputs": [],
   "source": [
    "# train, test, validation sets\n",
    "X_train, X_vali_test, y_train, y_valid_test = train_test_split(X, y, test_size=0.2, random_state=42)\n",
    "\n",
    "X_valid, X_test, y_valid, y_test = train_test_split(X_vali_test, y_valid_test, test_size=0.5, random_state=42)"
   ]
  },
  {
   "cell_type": "code",
   "execution_count": 360,
   "metadata": {},
   "outputs": [],
   "source": [
    "# Normalize model features using just the training data, to avoid leakege\n",
    "scaler = StandardScaler()\n",
    "X_train = scaler.fit_transform(X_train)"
   ]
  },
  {
   "cell_type": "code",
   "execution_count": 318,
   "metadata": {},
   "outputs": [],
   "source": [
    "X_test = scaler.transform(X_test)\n",
    "X_valid = scaler.transform(X_valid)"
   ]
  },
  {
   "cell_type": "code",
   "execution_count": 319,
   "metadata": {},
   "outputs": [
    {
     "data": {
      "text/plain": [
       "array([[-1.32686403e+00, -1.27564333e+00,  7.64622261e-01,\n",
       "        -5.47507434e-01, -3.82963334e-01,  3.70972826e-01,\n",
       "         3.63778403e-01, -9.12604533e-01,  9.75981961e-01,\n",
       "         3.57069979e-01,  1.06409268e-01],\n",
       "       [-5.40927782e-02,  8.45656227e-02, -1.22673042e+00,\n",
       "        -2.78672772e-01,  4.60910641e-01, -6.19474776e-02,\n",
       "         2.06736888e-01, -7.45376216e-01, -4.53141782e-01,\n",
       "        -4.72253843e-01,  6.82345485e-01],\n",
       "       [-1.07230978e+00,  1.38973981e-01, -1.27198843e+00,\n",
       "        -6.14716099e-01, -1.29801142e-01,  3.70972826e-01,\n",
       "        -4.52837472e-01, -4.10919582e-01,  9.75981961e-01,\n",
       "        -3.34033206e-01, -1.81558840e-01],\n",
       "       [ 2.51372322e-01, -1.43886841e+00,  9.90912338e-01,\n",
       "        -1.44255441e-01, -2.98575937e-01, -9.27788084e-01,\n",
       "        -9.86778622e-01, -7.45376216e-01, -5.15277597e-01,\n",
       "         1.96964408e+00,  1.73822855e+00],\n",
       "       [-4.10468729e-01,  6.83057564e-01, -4.12086141e-01,\n",
       "        -2.78672772e-01, -3.82963334e-01, -6.03097857e-01,\n",
       "        -8.29737107e-01, -4.10919582e-01,  1.06080552e-01,\n",
       "         2.29215890e+00,  1.06409268e-01],\n",
       "       [-6.65022979e-01,  8.45656227e-02, -4.57344156e-01,\n",
       "        -2.78672772e-01, -3.49208375e-01, -8.19558008e-01,\n",
       "        -6.72695593e-01, -6.33890671e-01, -1.81910774e-02,\n",
       "        -7.02621572e-01, -4.69526949e-01],\n",
       "       [-8.68666379e-01, -2.41884527e-01, -3.21570110e-01,\n",
       "        -2.78672772e-01, -3.66085855e-01, -1.03601816e+00,\n",
       "        -4.21429169e-01, -8.56861761e-01,  2.92487997e-01,\n",
       "        -1.02513639e+00, -7.57495057e-01],\n",
       "       [-9.19577229e-01,  3.56607414e-01, -1.40776248e+00,\n",
       "        -5.47507434e-01, -2.98575937e-01,  1.54512674e-01,\n",
       "        -4.84245775e-01, -1.87948492e-01,  1.16238941e+00,\n",
       "        -1.15183864e-02, -2.77548210e-01],\n",
       "       [-1.27595318e+00, -8.94784826e-01, -2.76312094e-01,\n",
       "        -4.80298769e-01, -2.98575937e-01,  6.95663053e-01,\n",
       "        -1.31212318e-02, -7.64629476e-02,  1.78374756e+00,\n",
       "        -3.80106752e-01, -3.73537579e-01],\n",
       "       [ 1.16776762e+00,  7.37465922e-01,  1.08142837e+00,\n",
       "        -2.11464107e-01, -1.29801142e-01, -9.27788084e-01,\n",
       "        -1.14382014e+00,  1.37284913e+00, -7.01685042e-01,\n",
       "         3.45551593e-02, -6.61505687e-01],\n",
       "       [ 1.16776762e+00, -1.38446005e+00,  1.12668638e+00,\n",
       "        -4.80298769e-01, -2.81698457e-01,  2.62742750e-01,\n",
       "         3.32370100e-01,  2.57993687e-01, -7.63820857e-01,\n",
       "        -5.64400935e-01, -3.73537579e-01],\n",
       "       [-1.42868573e+00, -1.76531856e+00,  4.02558137e-01,\n",
       "        -8.16342096e-01, -4.33595773e-01,  2.80614953e+00,\n",
       "         3.63024190e+00, -3.53251484e+00, -2.04598522e-01,\n",
       "        -5.18327389e-01,  1.64223918e+00],\n",
       "       [-6.14112129e-01,  7.10261743e-01, -1.40776248e+00,\n",
       "        -1.44255441e-01, -2.85362647e-02, -7.11327932e-01,\n",
       "        -9.55370319e-01, -7.64629476e-02, -8.03268923e-02,\n",
       "         1.26702251e-01, -8.53484426e-01],\n",
       "       [ 2.51372322e-01, -1.43886841e+00,  9.90912338e-01,\n",
       "        -1.44255441e-01, -2.98575937e-01, -9.27788084e-01,\n",
       "        -9.86778622e-01, -7.45376216e-01, -5.15277597e-01,\n",
       "         1.96964408e+00,  1.73822855e+00],\n",
       "       [ 1.49550622e-01, -6.77151393e-01,  8.55138292e-01,\n",
       "        -7.70467760e-02, -6.19248047e-01, -2.78407629e-01,\n",
       "        -7.66920501e-01, -1.30280394e+00,  3.54623812e-01,\n",
       "         4.03143525e-01,  2.98609035e+00],\n",
       "       [ 8.62302523e-01, -2.96292885e-01,  1.48875051e+00,\n",
       "        -2.78672772e-01,  3.25890805e-01, -9.27788084e-01,\n",
       "        -9.23962016e-01, -2.99434037e-01, -1.42462707e-01,\n",
       "        -1.95812569e-01,  1.45026044e+00],\n",
       "       [-8.68666379e-01, -6.49947214e-01,  2.21526076e-01,\n",
       "        -4.13090103e-01, -1.80433580e-01, -1.70177553e-01,\n",
       "        -1.38754443e-01, -1.87948492e-01,  1.22452522e+00,\n",
       "        -2.87959661e-01, -9.49473796e-01],\n",
       "       [ 6.58659123e-01, -6.22743035e-01,  1.17194440e+00,\n",
       "         5.27831213e-01, -3.66085855e-01, -1.14424824e+00,\n",
       "        -1.23804504e+00, -2.43691265e-01, -1.50945064e+00,\n",
       "        -3.34033206e-01, -5.65516318e-01],\n",
       "       [-1.05003628e-01,  8.46282639e-01, -4.76400163e-03,\n",
       "         2.58996551e-01, -9.60461827e-02,  9.12123205e-01,\n",
       "         9.91944461e-01,  1.48433468e+00,  1.22452522e+00,\n",
       "         1.72775796e-01,  1.35427107e+00],\n",
       "       [-5.12290429e-01, -5.68334677e-01, -4.57344156e-01,\n",
       "        -6.81924765e-01,  2.41503407e-01, -4.94867781e-01,\n",
       "        -3.90020867e-01, -5.22405127e-01, -7.01685042e-01,\n",
       "         9.56026073e-01, -6.61505687e-01],\n",
       "       [-6.14112129e-01,  2.17928742e+00,  5.38332184e-01,\n",
       "        -2.78672772e-01,  3.76523243e-01,  8.03893129e-01,\n",
       "         2.02841846e+00, -2.99434037e-01, -2.04598522e-01,\n",
       "         1.26702251e-01, -9.49473796e-01],\n",
       "       [ 2.33871717e+00, -2.42510939e-02,  2.16762074e+00,\n",
       "         1.46875253e+00,  4.77788120e-01,  9.12123205e-01,\n",
       "         8.66311249e-01,  2.37621904e+00, -6.39549227e-01,\n",
       "         3.10996433e-01,  2.69812224e+00],\n",
       "       [-3.18192813e-03,  3.02199056e-01,  3.57300122e-01,\n",
       "        -2.11464107e-01,  5.58511328e-02, -1.03601816e+00,\n",
       "        -8.61145410e-01,  5.92450321e-01,  5.41031257e-01,\n",
       "        -5.64400935e-01,  1.06409268e-01],\n",
       "       [-3.08647029e-01,  3.01572644e-02, -1.40538048e-01,\n",
       "        -4.80298769e-01, -2.47943498e-01, -3.86637705e-01,\n",
       "        -2.95795958e-01,  1.46508142e-01,  6.65302887e-01,\n",
       "        -4.26180298e-01, -1.81558840e-01],\n",
       "       [-8.68666379e-01, -1.05800990e+00,  4.04940138e-02,\n",
       "        -7.70467760e-02, -2.85362647e-02,  3.07672472e+00,\n",
       "         1.99701015e+00, -5.22405127e-01,  2.30352182e-01,\n",
       "         4.03143525e-01,  8.74324224e-01],\n",
       "       [-1.12322063e+00,  4.65424131e-01, -4.57344156e-01,\n",
       "        -4.80298769e-01, -2.14188539e-01, -7.11327932e-01,\n",
       "         3.95186706e-01, -2.99434037e-01,  1.47306848e+00,\n",
       "        -5.64400935e-01, -8.53484426e-01],\n",
       "       [-1.12322063e+00,  2.47790698e-01, -1.04569836e+00,\n",
       "        -5.47507434e-01,  8.96060919e-02,  4.62825982e-02,\n",
       "         4.89411615e-01, -9.12604533e-01, -1.81910774e-02,\n",
       "        -7.48695118e-01, -9.49473796e-01],\n",
       "       [ 8.11391673e-01, -1.33067810e-01,  1.48875051e+00,\n",
       "        -1.44255441e-01,  2.58380887e-01, -9.27788084e-01,\n",
       "        -1.08100353e+00, -1.32205720e-01, -1.19877156e+00,\n",
       "        -1.95812569e-01,  1.54624981e+00],\n",
       "       [-9.19577229e-01,  7.91874280e-01, -1.09095637e+00,\n",
       "        -4.80298769e-01, -2.81698457e-01,  1.54512674e-01,\n",
       "         4.96953740e-02, -3.83048196e-01,  6.03167072e-01,\n",
       "        -8.40842209e-01, -6.61505687e-01],\n",
       "       [-1.12322063e+00,  7.64670101e-01, -1.09095637e+00,\n",
       "        -1.44255441e-01, -4.54137442e-02,  2.62742750e-01,\n",
       "         1.02335276e+00, -9.68347306e-01,  4.16759627e-01,\n",
       "        -7.48695118e-01, -8.55694708e-02],\n",
       "       [-5.12290429e-01, -7.86594522e-02, -2.31054079e-01,\n",
       "        -4.80298769e-01, -2.14188539e-01,  2.96849464e+00,\n",
       "         2.84503433e+00, -6.33890671e-01, -3.28870152e-01,\n",
       "        -7.48695118e-01, -6.61505687e-01],\n",
       "       [-7.15933829e-01, -2.41884527e-01, -5.02602172e-01,\n",
       "        -9.83811056e-03,  4.05581378e+00, -7.11327932e-01,\n",
       "        -1.11241183e+00, -4.10919582e-01, -4.53141782e-01,\n",
       "         9.09952528e-01,  2.98388007e-01],\n",
       "       [ 8.11391673e-01, -1.60209348e+00,  4.93074168e-01,\n",
       "        -5.47507434e-01, -2.47943498e-01, -9.27788084e-01,\n",
       "        -8.61145410e-01,  3.50225971e-02, -4.53141782e-01,\n",
       "         1.60105571e+00,  5.86356115e-01],\n",
       "       [ 5.05926573e-01,  3.02199056e-01, -1.09095637e+00,\n",
       "         5.27831213e-01,  1.73993489e-01,  1.88619389e+00,\n",
       "         6.77861432e-01,  1.45646329e+00,  1.68216367e-01,\n",
       "         3.45551593e-02, -3.73537579e-01],\n",
       "       [-4.61379579e-01,  1.14552861e+00,  1.12668638e+00,\n",
       "        -4.13090103e-01,  4.44033161e-01,  1.66973374e+00,\n",
       "         2.65658451e+00, -4.10919582e-01, -2.66734337e-01,\n",
       "        -1.95812569e-01, -7.57495057e-01],\n",
       "       [ 1.52414357e+00, -5.68334677e-01,  1.57926654e+00,\n",
       "         3.26205217e-01,  2.92135846e-01, -4.94867781e-01,\n",
       "        -8.29737107e-01,  1.37284913e+00, -8.25956671e-01,\n",
       "         6.79584799e-01,  2.02398638e-01],\n",
       "       [ 7.60480823e-01, -6.77151393e-01,  1.08142837e+00,\n",
       "         3.93413882e-01, -2.64820978e-01,  8.03893129e-01,\n",
       "         1.43920283e-01,  1.14987804e+00, -8.25956671e-01,\n",
       "         8.63878982e-01, -2.77548210e-01],\n",
       "       [-1.07230978e+00,  4.11015772e-01, -1.22673042e+00,\n",
       "        -7.49133430e-01, -5.85493088e-01, -1.03601816e+00,\n",
       "        -1.23804504e+00, -1.27493255e+00,  8.51710332e-01,\n",
       "        -4.72253843e-01, -6.61505687e-01],\n",
       "       [ 2.23689547e+00, -1.05800990e+00,  9.45654323e-01,\n",
       "         3.93413882e-01,  3.89736533e-02,  2.62742750e-01,\n",
       "         1.12511980e-01,  2.15324795e+00, -1.44731482e+00,\n",
       "         4.95290616e-01, -6.61505687e-01]])"
      ]
     },
     "execution_count": 319,
     "metadata": {},
     "output_type": "execute_result"
    }
   ],
   "source": [
    "X_test"
   ]
  },
  {
   "cell_type": "code",
   "execution_count": 148,
   "metadata": {},
   "outputs": [
    {
     "data": {
      "text/plain": [
       "11"
      ]
     },
     "execution_count": 148,
     "metadata": {},
     "output_type": "execute_result"
    }
   ],
   "source": [
    "len(X_test[0])"
   ]
  },
  {
   "cell_type": "markdown",
   "metadata": {},
   "source": [
    "### Trying different models:\n",
    "* Decision Tree\n",
    "* Random Forest\n",
    "* AdaBoost"
   ]
  },
  {
   "cell_type": "code",
   "execution_count": 149,
   "metadata": {},
   "outputs": [],
   "source": [
    "# Decision Tree\n",
    "model_1 = DecisionTreeClassifier(random_state=42)\n",
    "model_1.fit(X_train, y_train)\n",
    "y_pred_1 = model_1.predict(X_valid)"
   ]
  },
  {
   "cell_type": "code",
   "execution_count": 150,
   "metadata": {},
   "outputs": [
    {
     "name": "stdout",
     "output_type": "stream",
     "text": [
      "              precision    recall  f1-score   support\n",
      "\n",
      "       False       0.67      0.73      0.70        22\n",
      "        True       0.57      0.50      0.53        16\n",
      "\n",
      "    accuracy                           0.63        38\n",
      "   macro avg       0.62      0.61      0.61        38\n",
      "weighted avg       0.63      0.63      0.63        38\n",
      "\n"
     ]
    }
   ],
   "source": [
    "print(classification_report(y_valid, y_pred_1))"
   ]
  },
  {
   "cell_type": "code",
   "execution_count": 151,
   "metadata": {},
   "outputs": [],
   "source": [
    "#Random Forest\n",
    "model_2 = RandomForestClassifier(random_state=42)\n",
    "model_2.fit(X_train, y_train)\n",
    "y_pred_2 = model_2.predict(X_valid)"
   ]
  },
  {
   "cell_type": "code",
   "execution_count": 152,
   "metadata": {},
   "outputs": [
    {
     "name": "stdout",
     "output_type": "stream",
     "text": [
      "              precision    recall  f1-score   support\n",
      "\n",
      "       False       0.71      0.77      0.74        22\n",
      "        True       0.64      0.56      0.60        16\n",
      "\n",
      "    accuracy                           0.68        38\n",
      "   macro avg       0.68      0.67      0.67        38\n",
      "weighted avg       0.68      0.68      0.68        38\n",
      "\n"
     ]
    }
   ],
   "source": [
    "print(classification_report(y_valid, y_pred_2))"
   ]
  },
  {
   "cell_type": "code",
   "execution_count": 153,
   "metadata": {},
   "outputs": [],
   "source": [
    "#AdaBoost\n",
    "model_3 = AdaBoostClassifier(random_state=42)\n",
    "model_3.fit(X_train, y_train)\n",
    "y_pred_3 = model_3.predict(X_valid)"
   ]
  },
  {
   "cell_type": "code",
   "execution_count": 154,
   "metadata": {},
   "outputs": [
    {
     "name": "stdout",
     "output_type": "stream",
     "text": [
      "              precision    recall  f1-score   support\n",
      "\n",
      "       False       0.83      0.91      0.87        22\n",
      "        True       0.86      0.75      0.80        16\n",
      "\n",
      "    accuracy                           0.84        38\n",
      "   macro avg       0.85      0.83      0.83        38\n",
      "weighted avg       0.84      0.84      0.84        38\n",
      "\n"
     ]
    }
   ],
   "source": [
    "print(classification_report(y_valid, y_pred_3))"
   ]
  },
  {
   "cell_type": "markdown",
   "metadata": {},
   "source": [
    "### Test set"
   ]
  },
  {
   "cell_type": "code",
   "execution_count": 322,
   "metadata": {},
   "outputs": [],
   "source": [
    "y_1 = model_1.predict(X_scl)\n",
    "y_2 = model_2.predict(X_test)\n",
    "y_3 = model_3.predict(X_test)"
   ]
  },
  {
   "cell_type": "code",
   "execution_count": 324,
   "metadata": {},
   "outputs": [
    {
     "data": {
      "text/plain": [
       "array([False,  True, False,  True,  True, False, False, False,  True,\n",
       "       False, False, False,  True,  True,  True,  True,  True, False,\n",
       "        True, False, False,  True,  True,  True, False, False,  True,\n",
       "        True, False, False, False,  True,  True, False, False,  True,\n",
       "        True, False,  True])"
      ]
     },
     "execution_count": 324,
     "metadata": {},
     "output_type": "execute_result"
    }
   ],
   "source": [
    "y_1"
   ]
  },
  {
   "cell_type": "code",
   "execution_count": 323,
   "metadata": {},
   "outputs": [
    {
     "name": "stdout",
     "output_type": "stream",
     "text": [
      "Decision Tree Accuracy:  0.6666666666666666\n",
      "Random Forest Accuracy:  0.7435897435897436\n",
      "AdaBoost Accuracy:  0.7435897435897436\n"
     ]
    }
   ],
   "source": [
    "print(\"Decision Tree Accuracy: \", accuracy_score(y_test, y_1))\n",
    "print(\"Random Forest Accuracy: \", accuracy_score(y_test, y_2))\n",
    "print(\"AdaBoost Accuracy: \", accuracy_score(y_test, y_3))"
   ]
  },
  {
   "cell_type": "code",
   "execution_count": 157,
   "metadata": {},
   "outputs": [
    {
     "name": "stdout",
     "output_type": "stream",
     "text": [
      "Decision Tree f1_score:  0.6829268292682926\n",
      "Random Forest f1_score:  0.7368421052631577\n",
      "AdaBoost f1_score:  0.7500000000000001\n"
     ]
    }
   ],
   "source": [
    "print(\"Decision Tree f1_score: \", f1_score(y_test, y_1))\n",
    "print(\"Random Forest f1_score: \", f1_score(y_test, y_2))\n",
    "print(\"AdaBoost f1_score: \", f1_score(y_test, y_3))"
   ]
  },
  {
   "cell_type": "markdown",
   "metadata": {},
   "source": [
    "### Model saving"
   ]
  },
  {
   "cell_type": "code",
   "execution_count": 53,
   "metadata": {},
   "outputs": [
    {
     "data": {
      "text/plain": [
       "['model_wine_quality.joblib']"
      ]
     },
     "execution_count": 53,
     "metadata": {},
     "output_type": "execute_result"
    }
   ],
   "source": [
    "filename = \"model_wine_quality.joblib\"\n",
    "joblib.dump(model_3, filename)"
   ]
  },
  {
   "cell_type": "code",
   "execution_count": 124,
   "metadata": {},
   "outputs": [
    {
     "name": "stdout",
     "output_type": "stream",
     "text": [
      "/home/guilherme/Desktop/mlops/model/model_wine_quality.joblib\n"
     ]
    }
   ],
   "source": [
    "import os \n",
    "filename_path = os.path.abspath(\"./model/\")\n",
    "filename = \"model_wine_quality.joblib\"\n",
    "model_path = os.path.join(filename_path, filename)\n",
    "print(model_path)"
   ]
  },
  {
   "cell_type": "markdown",
   "metadata": {},
   "source": [
    "### Take a list of prediction to use to test the API"
   ]
  },
  {
   "cell_type": "code",
   "execution_count": 379,
   "metadata": {},
   "outputs": [
    {
     "data": {
      "text/html": [
       "<div>\n",
       "<style scoped>\n",
       "    .dataframe tbody tr th:only-of-type {\n",
       "        vertical-align: middle;\n",
       "    }\n",
       "\n",
       "    .dataframe tbody tr th {\n",
       "        vertical-align: top;\n",
       "    }\n",
       "\n",
       "    .dataframe thead th {\n",
       "        text-align: right;\n",
       "    }\n",
       "</style>\n",
       "<table border=\"1\" class=\"dataframe\">\n",
       "  <thead>\n",
       "    <tr style=\"text-align: right;\">\n",
       "      <th></th>\n",
       "      <th>fixed_acidity</th>\n",
       "      <th>volatile_acidity</th>\n",
       "      <th>citric_acid</th>\n",
       "      <th>residual_sugar</th>\n",
       "      <th>chlorides</th>\n",
       "      <th>free_sulfur_dioxide</th>\n",
       "      <th>total_sulfur_dioxide</th>\n",
       "      <th>density</th>\n",
       "      <th>pH</th>\n",
       "      <th>sulphates</th>\n",
       "      <th>alcohol</th>\n",
       "    </tr>\n",
       "  </thead>\n",
       "  <tbody>\n",
       "    <tr>\n",
       "      <th>0</th>\n",
       "      <td>7.4</td>\n",
       "      <td>0.70</td>\n",
       "      <td>0.00</td>\n",
       "      <td>1.9</td>\n",
       "      <td>0.076</td>\n",
       "      <td>11.0</td>\n",
       "      <td>34.0</td>\n",
       "      <td>0.9978</td>\n",
       "      <td>3.51</td>\n",
       "      <td>0.56</td>\n",
       "      <td>9.4</td>\n",
       "    </tr>\n",
       "    <tr>\n",
       "      <th>1</th>\n",
       "      <td>7.8</td>\n",
       "      <td>0.88</td>\n",
       "      <td>0.00</td>\n",
       "      <td>2.6</td>\n",
       "      <td>0.098</td>\n",
       "      <td>25.0</td>\n",
       "      <td>67.0</td>\n",
       "      <td>0.9968</td>\n",
       "      <td>3.20</td>\n",
       "      <td>0.68</td>\n",
       "      <td>9.8</td>\n",
       "    </tr>\n",
       "    <tr>\n",
       "      <th>2</th>\n",
       "      <td>7.8</td>\n",
       "      <td>0.76</td>\n",
       "      <td>0.04</td>\n",
       "      <td>2.3</td>\n",
       "      <td>0.092</td>\n",
       "      <td>15.0</td>\n",
       "      <td>54.0</td>\n",
       "      <td>0.9970</td>\n",
       "      <td>3.26</td>\n",
       "      <td>0.65</td>\n",
       "      <td>9.8</td>\n",
       "    </tr>\n",
       "    <tr>\n",
       "      <th>3</th>\n",
       "      <td>11.2</td>\n",
       "      <td>0.28</td>\n",
       "      <td>0.56</td>\n",
       "      <td>1.9</td>\n",
       "      <td>0.075</td>\n",
       "      <td>17.0</td>\n",
       "      <td>60.0</td>\n",
       "      <td>0.9980</td>\n",
       "      <td>3.16</td>\n",
       "      <td>0.58</td>\n",
       "      <td>9.8</td>\n",
       "    </tr>\n",
       "    <tr>\n",
       "      <th>4</th>\n",
       "      <td>7.4</td>\n",
       "      <td>0.70</td>\n",
       "      <td>0.00</td>\n",
       "      <td>1.9</td>\n",
       "      <td>0.076</td>\n",
       "      <td>11.0</td>\n",
       "      <td>34.0</td>\n",
       "      <td>0.9978</td>\n",
       "      <td>3.51</td>\n",
       "      <td>0.56</td>\n",
       "      <td>9.4</td>\n",
       "    </tr>\n",
       "  </tbody>\n",
       "</table>\n",
       "</div>"
      ],
      "text/plain": [
       "   fixed_acidity  volatile_acidity  citric_acid  residual_sugar  chlorides  \\\n",
       "0            7.4              0.70         0.00             1.9      0.076   \n",
       "1            7.8              0.88         0.00             2.6      0.098   \n",
       "2            7.8              0.76         0.04             2.3      0.092   \n",
       "3           11.2              0.28         0.56             1.9      0.075   \n",
       "4            7.4              0.70         0.00             1.9      0.076   \n",
       "\n",
       "   free_sulfur_dioxide  total_sulfur_dioxide  density    pH  sulphates  \\\n",
       "0                 11.0                  34.0   0.9978  3.51       0.56   \n",
       "1                 25.0                  67.0   0.9968  3.20       0.68   \n",
       "2                 15.0                  54.0   0.9970  3.26       0.65   \n",
       "3                 17.0                  60.0   0.9980  3.16       0.58   \n",
       "4                 11.0                  34.0   0.9978  3.51       0.56   \n",
       "\n",
       "   alcohol  \n",
       "0      9.4  \n",
       "1      9.8  \n",
       "2      9.8  \n",
       "3      9.8  \n",
       "4      9.4  "
      ]
     },
     "execution_count": 379,
     "metadata": {},
     "output_type": "execute_result"
    }
   ],
   "source": [
    "df = df_1.copy()\n",
    "X = df.drop([\"binary_quality\"], axis=1)\n",
    "X.head()"
   ]
  },
  {
   "cell_type": "code",
   "execution_count": 268,
   "metadata": {},
   "outputs": [],
   "source": [
    "from modules.ml_support_modules.functions.feat_eng import process_data\n",
    "\n",
    "\n",
    "model_2 = joblib.load(\"model/production_model/model_wine_quality.joblib\")\n",
    "encoder_2 = joblib.load(\"model/production_model/encoder.joblib\")\n",
    "\n"
   ]
  },
  {
   "cell_type": "code",
   "execution_count": 383,
   "metadata": {},
   "outputs": [],
   "source": [
    "X = {\n",
    "  \"fixed_acidity\": [11.2],\n",
    "  \"volatile_acidity\": [0.28],\n",
    "  \"citric_acid\": [0.56],\n",
    "  \"residual_sugar\": [1.9],\n",
    "  \"chlorides\": [0.075],\n",
    "  \"free_sulfur_dioxide\": [17],\n",
    "  \"total_sulfur_dioxide\": [60],\n",
    "  \"density\": [0.9980],\n",
    "  \"pH\": [3.16],\n",
    "  \"sulphates\": [0.58],\n",
    "  \"alcohol\": [9.8]\n",
    "}\n",
    "\n",
    "X = pd.DataFrame.from_dict(X)\n"
   ]
  },
  {
   "cell_type": "code",
   "execution_count": 385,
   "metadata": {},
   "outputs": [],
   "source": [
    "X, _, _ = process_data(X, training=False,encoder=encoder_2)"
   ]
  },
  {
   "cell_type": "code",
   "execution_count": 386,
   "metadata": {},
   "outputs": [
    {
     "data": {
      "text/plain": [
       "array([[ 1.37325147, -1.38257651,  1.31911642, -0.53275652, -0.28655923,\n",
       "         0.20175537,  0.36206316,  0.41185259, -0.8580921 , -0.4632804 ,\n",
       "        -0.48227533]])"
      ]
     },
     "execution_count": 386,
     "metadata": {},
     "output_type": "execute_result"
    }
   ],
   "source": [
    "X"
   ]
  },
  {
   "cell_type": "code",
   "execution_count": 388,
   "metadata": {},
   "outputs": [
    {
     "data": {
      "text/plain": [
       "True"
      ]
     },
     "execution_count": 388,
     "metadata": {},
     "output_type": "execute_result"
    }
   ],
   "source": [
    "y_pred = model_2.predict(X)\n",
    "y_pred[0]"
   ]
  },
  {
   "cell_type": "code",
   "execution_count": 247,
   "metadata": {},
   "outputs": [],
   "source": [
    "\n",
    "api_parameters = {\n",
    "  \"fixed_acidity\": df[\"fixed_acidity\"][0],\n",
    "  \"volatile_acidity\": df[\"volatile_acidity\"][0],\n",
    "  \"citric_acid\": df[\"citric_acid\"][0],\n",
    "  \"residual_sugar\": df[\"residual_sugar\"][0],\n",
    "  \"chlorides\": df[\"chlorides\"][0],\n",
    "  \"free_sulfur_dioxide\": df[\"free_sulfur_dioxide\"][0],\n",
    "  \"total_sulfur_dioxide\": df[\"total_sulfur_dioxide\"][0],\n",
    "  \"density\": df[\"density\"][0],\n",
    "  \"pH\": df[\"pH\"][0],\n",
    "  \"sulphates\": df[\"sulphates\"][0],\n",
    "  \"alcohol\": df[\"alcohol\"][0]\n",
    "}"
   ]
  },
  {
   "cell_type": "code",
   "execution_count": 341,
   "metadata": {},
   "outputs": [
    {
     "data": {
      "text/plain": [
       "{'fixed_acidity': 7.8,\n",
       " 'volatile_acidity': 0.88,\n",
       " 'citric_acid': 0.0,\n",
       " 'residual_sugar': 2.6,\n",
       " 'chlorides': 0.098,\n",
       " 'free_sulfur_dioxide': 25.0,\n",
       " 'total_sulfur_dioxide': 67.0,\n",
       " 'density': 0.9968,\n",
       " 'pH': 3.2,\n",
       " 'sulphates': 0.68,\n",
       " 'alcohol': 9.8,\n",
       " 'binary_quality': False}"
      ]
     },
     "execution_count": 341,
     "metadata": {},
     "output_type": "execute_result"
    }
   ],
   "source": [
    "df.iloc[1].to_dict()"
   ]
  },
  {
   "cell_type": "code",
   "execution_count": 342,
   "metadata": {},
   "outputs": [
    {
     "data": {
      "text/plain": [
       "'{\"fixed_acidity\": 7.8, \"volatile_acidity\": 0.88, \"citric_acid\": 0.0, \"residual_sugar\": 2.6, \"chlorides\": 0.098, \"free_sulfur_dioxide\": 25.0, \"total_sulfur_dioxide\": 67.0, \"density\": 0.9968, \"pH\": 3.2, \"sulphates\": 0.68, \"alcohol\": 9.8, \"binary_quality\": false}'"
      ]
     },
     "execution_count": 342,
     "metadata": {},
     "output_type": "execute_result"
    }
   ],
   "source": [
    "json.dumps(df.iloc[1].to_dict())"
   ]
  },
  {
   "cell_type": "code",
   "execution_count": 330,
   "metadata": {},
   "outputs": [
    {
     "name": "stdout",
     "output_type": "stream",
     "text": [
      "   fixed_acidity  volatile_acidity  citric_acid  residual_sugar  chlorides  \\\n",
      "0            7.4               0.7          0.0             1.9      0.076   \n",
      "\n",
      "   free_sulfur_dioxide  total_sulfur_dioxide  density    pH  sulphates  \\\n",
      "0                 11.0                  34.0   0.9978  3.51       0.56   \n",
      "\n",
      "   alcohol  \n",
      "0      9.4  \n"
     ]
    },
    {
     "ename": "KeyError",
     "evalue": "1",
     "output_type": "error",
     "traceback": [
      "\u001b[0;31m---------------------------------------------------------------------------\u001b[0m",
      "\u001b[0;31mValueError\u001b[0m                                Traceback (most recent call last)",
      "File \u001b[0;32m~/.local/lib/python3.8/site-packages/pandas/core/indexes/range.py:385\u001b[0m, in \u001b[0;36mRangeIndex.get_loc\u001b[0;34m(self, key, method, tolerance)\u001b[0m\n\u001b[1;32m    <a href='file:///home/guilherme/.local/lib/python3.8/site-packages/pandas/core/indexes/range.py?line=383'>384</a>\u001b[0m \u001b[39mtry\u001b[39;00m:\n\u001b[0;32m--> <a href='file:///home/guilherme/.local/lib/python3.8/site-packages/pandas/core/indexes/range.py?line=384'>385</a>\u001b[0m     \u001b[39mreturn\u001b[39;00m \u001b[39mself\u001b[39;49m\u001b[39m.\u001b[39;49m_range\u001b[39m.\u001b[39;49mindex(new_key)\n\u001b[1;32m    <a href='file:///home/guilherme/.local/lib/python3.8/site-packages/pandas/core/indexes/range.py?line=385'>386</a>\u001b[0m \u001b[39mexcept\u001b[39;00m \u001b[39mValueError\u001b[39;00m \u001b[39mas\u001b[39;00m err:\n",
      "\u001b[0;31mValueError\u001b[0m: 1 is not in range",
      "\nThe above exception was the direct cause of the following exception:\n",
      "\u001b[0;31mKeyError\u001b[0m                                  Traceback (most recent call last)",
      "\u001b[1;32m/home/guilherme/Desktop/mlops/wine_notebook.ipynb Cell 44'\u001b[0m in \u001b[0;36m<cell line: 1>\u001b[0;34m()\u001b[0m\n\u001b[1;32m      <a href='vscode-notebook-cell:/home/guilherme/Desktop/mlops/wine_notebook.ipynb#ch0000071?line=0'>1</a>\u001b[0m \u001b[39mfor\u001b[39;00m i \u001b[39min\u001b[39;00m \u001b[39mrange\u001b[39m(\u001b[39m10\u001b[39m):\n\u001b[1;32m      <a href='vscode-notebook-cell:/home/guilherme/Desktop/mlops/wine_notebook.ipynb#ch0000071?line=2'>3</a>\u001b[0m     api_parameters \u001b[39m=\u001b[39m {\n\u001b[0;32m----> <a href='vscode-notebook-cell:/home/guilherme/Desktop/mlops/wine_notebook.ipynb#ch0000071?line=3'>4</a>\u001b[0m         \u001b[39m\"\u001b[39m\u001b[39mfixed_acidity\u001b[39m\u001b[39m\"\u001b[39m: df[\u001b[39m\"\u001b[39;49m\u001b[39mfixed_acidity\u001b[39;49m\u001b[39m\"\u001b[39;49m][i],\n\u001b[1;32m      <a href='vscode-notebook-cell:/home/guilherme/Desktop/mlops/wine_notebook.ipynb#ch0000071?line=4'>5</a>\u001b[0m         \u001b[39m\"\u001b[39m\u001b[39mvolatile_acidity\u001b[39m\u001b[39m\"\u001b[39m: df[\u001b[39m\"\u001b[39m\u001b[39mvolatile_acidity\u001b[39m\u001b[39m\"\u001b[39m][i],\n\u001b[1;32m      <a href='vscode-notebook-cell:/home/guilherme/Desktop/mlops/wine_notebook.ipynb#ch0000071?line=5'>6</a>\u001b[0m         \u001b[39m\"\u001b[39m\u001b[39mcitric_acid\u001b[39m\u001b[39m\"\u001b[39m: df[\u001b[39m\"\u001b[39m\u001b[39mcitric_acid\u001b[39m\u001b[39m\"\u001b[39m][i],\n\u001b[1;32m      <a href='vscode-notebook-cell:/home/guilherme/Desktop/mlops/wine_notebook.ipynb#ch0000071?line=6'>7</a>\u001b[0m         \u001b[39m\"\u001b[39m\u001b[39mresidual_sugar\u001b[39m\u001b[39m\"\u001b[39m: df[\u001b[39m\"\u001b[39m\u001b[39mresidual_sugar\u001b[39m\u001b[39m\"\u001b[39m][i],\n\u001b[1;32m      <a href='vscode-notebook-cell:/home/guilherme/Desktop/mlops/wine_notebook.ipynb#ch0000071?line=7'>8</a>\u001b[0m         \u001b[39m\"\u001b[39m\u001b[39mchlorides\u001b[39m\u001b[39m\"\u001b[39m: df[\u001b[39m\"\u001b[39m\u001b[39mchlorides\u001b[39m\u001b[39m\"\u001b[39m][i],\n\u001b[1;32m      <a href='vscode-notebook-cell:/home/guilherme/Desktop/mlops/wine_notebook.ipynb#ch0000071?line=8'>9</a>\u001b[0m         \u001b[39m\"\u001b[39m\u001b[39mfree_sulfur_dioxide\u001b[39m\u001b[39m\"\u001b[39m: df[\u001b[39m\"\u001b[39m\u001b[39mfree_sulfur_dioxide\u001b[39m\u001b[39m\"\u001b[39m][i],\n\u001b[1;32m     <a href='vscode-notebook-cell:/home/guilherme/Desktop/mlops/wine_notebook.ipynb#ch0000071?line=9'>10</a>\u001b[0m         \u001b[39m\"\u001b[39m\u001b[39mtotal_sulfur_dioxide\u001b[39m\u001b[39m\"\u001b[39m: df[\u001b[39m\"\u001b[39m\u001b[39mtotal_sulfur_dioxide\u001b[39m\u001b[39m\"\u001b[39m][i],\n\u001b[1;32m     <a href='vscode-notebook-cell:/home/guilherme/Desktop/mlops/wine_notebook.ipynb#ch0000071?line=10'>11</a>\u001b[0m         \u001b[39m\"\u001b[39m\u001b[39mdensity\u001b[39m\u001b[39m\"\u001b[39m: df[\u001b[39m\"\u001b[39m\u001b[39mdensity\u001b[39m\u001b[39m\"\u001b[39m][i],\n\u001b[1;32m     <a href='vscode-notebook-cell:/home/guilherme/Desktop/mlops/wine_notebook.ipynb#ch0000071?line=11'>12</a>\u001b[0m         \u001b[39m\"\u001b[39m\u001b[39mpH\u001b[39m\u001b[39m\"\u001b[39m: df[\u001b[39m\"\u001b[39m\u001b[39mpH\u001b[39m\u001b[39m\"\u001b[39m][i],\n\u001b[1;32m     <a href='vscode-notebook-cell:/home/guilherme/Desktop/mlops/wine_notebook.ipynb#ch0000071?line=12'>13</a>\u001b[0m         \u001b[39m\"\u001b[39m\u001b[39msulphates\u001b[39m\u001b[39m\"\u001b[39m: df[\u001b[39m\"\u001b[39m\u001b[39msulphates\u001b[39m\u001b[39m\"\u001b[39m][i],\n\u001b[1;32m     <a href='vscode-notebook-cell:/home/guilherme/Desktop/mlops/wine_notebook.ipynb#ch0000071?line=13'>14</a>\u001b[0m         \u001b[39m\"\u001b[39m\u001b[39malcohol\u001b[39m\u001b[39m\"\u001b[39m: df[\u001b[39m\"\u001b[39m\u001b[39malcohol\u001b[39m\u001b[39m\"\u001b[39m][i]\n\u001b[1;32m     <a href='vscode-notebook-cell:/home/guilherme/Desktop/mlops/wine_notebook.ipynb#ch0000071?line=14'>15</a>\u001b[0m         }\n\u001b[1;32m     <a href='vscode-notebook-cell:/home/guilherme/Desktop/mlops/wine_notebook.ipynb#ch0000071?line=16'>17</a>\u001b[0m         \u001b[39m# Create a DataFrame using the values from the dict\u001b[39;00m\n\u001b[1;32m     <a href='vscode-notebook-cell:/home/guilherme/Desktop/mlops/wine_notebook.ipynb#ch0000071?line=17'>18</a>\u001b[0m     df \u001b[39m=\u001b[39m pd\u001b[39m.\u001b[39mDataFrame([api_parameters])\n",
      "File \u001b[0;32m~/.local/lib/python3.8/site-packages/pandas/core/series.py:958\u001b[0m, in \u001b[0;36mSeries.__getitem__\u001b[0;34m(self, key)\u001b[0m\n\u001b[1;32m    <a href='file:///home/guilherme/.local/lib/python3.8/site-packages/pandas/core/series.py?line=954'>955</a>\u001b[0m     \u001b[39mreturn\u001b[39;00m \u001b[39mself\u001b[39m\u001b[39m.\u001b[39m_values[key]\n\u001b[1;32m    <a href='file:///home/guilherme/.local/lib/python3.8/site-packages/pandas/core/series.py?line=956'>957</a>\u001b[0m \u001b[39melif\u001b[39;00m key_is_scalar:\n\u001b[0;32m--> <a href='file:///home/guilherme/.local/lib/python3.8/site-packages/pandas/core/series.py?line=957'>958</a>\u001b[0m     \u001b[39mreturn\u001b[39;00m \u001b[39mself\u001b[39;49m\u001b[39m.\u001b[39;49m_get_value(key)\n\u001b[1;32m    <a href='file:///home/guilherme/.local/lib/python3.8/site-packages/pandas/core/series.py?line=959'>960</a>\u001b[0m \u001b[39mif\u001b[39;00m is_hashable(key):\n\u001b[1;32m    <a href='file:///home/guilherme/.local/lib/python3.8/site-packages/pandas/core/series.py?line=960'>961</a>\u001b[0m     \u001b[39m# Otherwise index.get_value will raise InvalidIndexError\u001b[39;00m\n\u001b[1;32m    <a href='file:///home/guilherme/.local/lib/python3.8/site-packages/pandas/core/series.py?line=961'>962</a>\u001b[0m     \u001b[39mtry\u001b[39;00m:\n\u001b[1;32m    <a href='file:///home/guilherme/.local/lib/python3.8/site-packages/pandas/core/series.py?line=962'>963</a>\u001b[0m         \u001b[39m# For labels that don't resolve as scalars like tuples and frozensets\u001b[39;00m\n",
      "File \u001b[0;32m~/.local/lib/python3.8/site-packages/pandas/core/series.py:1069\u001b[0m, in \u001b[0;36mSeries._get_value\u001b[0;34m(self, label, takeable)\u001b[0m\n\u001b[1;32m   <a href='file:///home/guilherme/.local/lib/python3.8/site-packages/pandas/core/series.py?line=1065'>1066</a>\u001b[0m     \u001b[39mreturn\u001b[39;00m \u001b[39mself\u001b[39m\u001b[39m.\u001b[39m_values[label]\n\u001b[1;32m   <a href='file:///home/guilherme/.local/lib/python3.8/site-packages/pandas/core/series.py?line=1067'>1068</a>\u001b[0m \u001b[39m# Similar to Index.get_value, but we do not fall back to positional\u001b[39;00m\n\u001b[0;32m-> <a href='file:///home/guilherme/.local/lib/python3.8/site-packages/pandas/core/series.py?line=1068'>1069</a>\u001b[0m loc \u001b[39m=\u001b[39m \u001b[39mself\u001b[39;49m\u001b[39m.\u001b[39;49mindex\u001b[39m.\u001b[39;49mget_loc(label)\n\u001b[1;32m   <a href='file:///home/guilherme/.local/lib/python3.8/site-packages/pandas/core/series.py?line=1069'>1070</a>\u001b[0m \u001b[39mreturn\u001b[39;00m \u001b[39mself\u001b[39m\u001b[39m.\u001b[39mindex\u001b[39m.\u001b[39m_get_values_for_loc(\u001b[39mself\u001b[39m, loc, label)\n",
      "File \u001b[0;32m~/.local/lib/python3.8/site-packages/pandas/core/indexes/range.py:387\u001b[0m, in \u001b[0;36mRangeIndex.get_loc\u001b[0;34m(self, key, method, tolerance)\u001b[0m\n\u001b[1;32m    <a href='file:///home/guilherme/.local/lib/python3.8/site-packages/pandas/core/indexes/range.py?line=384'>385</a>\u001b[0m         \u001b[39mreturn\u001b[39;00m \u001b[39mself\u001b[39m\u001b[39m.\u001b[39m_range\u001b[39m.\u001b[39mindex(new_key)\n\u001b[1;32m    <a href='file:///home/guilherme/.local/lib/python3.8/site-packages/pandas/core/indexes/range.py?line=385'>386</a>\u001b[0m     \u001b[39mexcept\u001b[39;00m \u001b[39mValueError\u001b[39;00m \u001b[39mas\u001b[39;00m err:\n\u001b[0;32m--> <a href='file:///home/guilherme/.local/lib/python3.8/site-packages/pandas/core/indexes/range.py?line=386'>387</a>\u001b[0m         \u001b[39mraise\u001b[39;00m \u001b[39mKeyError\u001b[39;00m(key) \u001b[39mfrom\u001b[39;00m \u001b[39merr\u001b[39;00m\n\u001b[1;32m    <a href='file:///home/guilherme/.local/lib/python3.8/site-packages/pandas/core/indexes/range.py?line=387'>388</a>\u001b[0m \u001b[39mself\u001b[39m\u001b[39m.\u001b[39m_check_indexing_error(key)\n\u001b[1;32m    <a href='file:///home/guilherme/.local/lib/python3.8/site-packages/pandas/core/indexes/range.py?line=388'>389</a>\u001b[0m \u001b[39mraise\u001b[39;00m \u001b[39mKeyError\u001b[39;00m(key)\n",
      "\u001b[0;31mKeyError\u001b[0m: 1"
     ]
    }
   ],
   "source": [
    "for i in range(10):\n",
    "\n",
    "    api_parameters = {\n",
    "        \"fixed_acidity\": df[\"fixed_acidity\"].iloc[][i],\n",
    "        \"volatile_acidity\": df[\"volatile_acidity\"][i],\n",
    "        \"citric_acid\": df[\"citric_acid\"][i],\n",
    "        \"residual_sugar\": df[\"residual_sugar\"][i],\n",
    "        \"chlorides\": df[\"chlorides\"][i],\n",
    "        \"free_sulfur_dioxide\": df[\"free_sulfur_dioxide\"][i],\n",
    "        \"total_sulfur_dioxide\": df[\"total_sulfur_dioxide\"][i],\n",
    "        \"density\": df[\"density\"][i],\n",
    "        \"pH\": df[\"pH\"][i],\n",
    "        \"sulphates\": df[\"sulphates\"][i],\n",
    "        \"alcohol\": df[\"alcohol\"][i]\n",
    "        }\n",
    "\n",
    "        # Create a DataFrame using the values from the dict\n",
    "    df = pd.DataFrame([api_parameters])\n",
    "    print(df)"
   ]
  },
  {
   "cell_type": "code",
   "execution_count": 275,
   "metadata": {},
   "outputs": [],
   "source": [
    "import requests\n",
    "import json\n",
    "from modules.ml_support_modules.functions.feat_eng import process_data\n",
    "\n",
    "\n",
    "model = joblib.load(\"model/production_model/model_wine_quality.joblib\")\n",
    "encoder = joblib.load(\"model/production_model/encoder.joblib\")\n",
    "\n",
    "for i in range(10):\n",
    "\n",
    "    api_parameters = {\n",
    "        \"fixed_acidity\": df[\"fixed_acidity\"][i],\n",
    "        \"volatile_acidity\": df[\"volatile_acidity\"][i],\n",
    "        \"citric_acid\": df[\"citric_acid\"][i],\n",
    "        \"residual_sugar\": df[\"residual_sugar\"][i],\n",
    "        \"chlorides\": df[\"chlorides\"][i],\n",
    "        \"free_sulfur_dioxide\": df[\"free_sulfur_dioxide\"][i],\n",
    "        \"total_sulfur_dioxide\": df[\"total_sulfur_dioxide\"][i],\n",
    "        \"density\": df[\"density\"][i],\n",
    "        \"pH\": df[\"pH\"][i],\n",
    "        \"sulphates\": df[\"sulphates\"][i],\n",
    "        \"alcohol\": df[\"alcohol\"][i]\n",
    "        }\n",
    "\n",
    "\n",
    "    response = requests.post(\"https://guilhermebrejeiromeli.herokuapp.com/\", data=json.dumps(api_parameters))\n",
    "    if response.json() == \"Good quality wine!\":\n",
    "        print(api_parameters)"
   ]
  }
 ],
 "metadata": {
  "interpreter": {
   "hash": "916dbcbb3f70747c44a77c7bcd40155683ae19c65e1c03b4aa3499c5328201f1"
  },
  "kernelspec": {
   "display_name": "Python 3.8.10 64-bit",
   "language": "python",
   "name": "python3"
  },
  "language_info": {
   "codemirror_mode": {
    "name": "ipython",
    "version": 3
   },
   "file_extension": ".py",
   "mimetype": "text/x-python",
   "name": "python",
   "nbconvert_exporter": "python",
   "pygments_lexer": "ipython3",
   "version": "3.8.10"
  },
  "orig_nbformat": 4
 },
 "nbformat": 4,
 "nbformat_minor": 2
}
